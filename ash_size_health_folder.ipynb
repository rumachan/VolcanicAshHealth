{
 "cells": [
  {
   "cell_type": "markdown",
   "metadata": {},
   "source": [
    "Ash Particle Size Distribution - Suitable for Health Stakeholders\n",
    "--\n",
    "\n",
    "Plot for all CSV files in this folder, gives plots a suitable file name"
   ]
  },
  {
   "cell_type": "code",
   "execution_count": null,
   "metadata": {},
   "outputs": [],
   "source": [
    "from IPython.core.display import display, HTML\n",
    "display(HTML(\"<style>.container { width:100% !important; }</style>\"))"
   ]
  },
  {
   "cell_type": "code",
   "execution_count": null,
   "metadata": {},
   "outputs": [],
   "source": [
    "%%javascript\n",
    "IPython.OutputArea.prototype._should_scroll = function(lines) {\n",
    "    return false;\n",
    "}"
   ]
  },
  {
   "cell_type": "code",
   "execution_count": null,
   "metadata": {
    "collapsed": true
   },
   "outputs": [],
   "source": [
    "import pandas as pd\n",
    "import matplotlib.pyplot as plt\n",
    "import matplotlib.style as style\n",
    "from matplotlib.ticker import FormatStrFormatter\n",
    "import numpy as np\n",
    "import os\n",
    "\n",
    "%matplotlib inline"
   ]
  },
  {
   "cell_type": "code",
   "execution_count": null,
   "metadata": {
    "collapsed": true
   },
   "outputs": [],
   "source": [
    "style.use('fivethirtyeight')"
   ]
  },
  {
   "cell_type": "code",
   "execution_count": null,
   "metadata": {},
   "outputs": [],
   "source": [
    "figsize = (15,5)\n",
    "\n",
    "for file in sorted(os.listdir('.')):\n",
    "        if file.endswith('.csv'):\n",
    "            stem = file[:-3]\n",
    "            plotfile = stem+'png'          \n",
    "\n",
    "            #get and process data\n",
    "            #data\n",
    "            names = ['diameter', 'volume %', 'minus2sd', 'plus2sd', 'cumulative']\n",
    "            data = pd.read_csv(file, skiprows=13, names=names, index_col=0)\n",
    "            data.dropna(inplace=True)\n",
    "\n",
    "            #put diamater into mm\n",
    "            data.index /= 1000\n",
    "\n",
    "            #calculate percentages in size ranges\n",
    "            #convert to string for plottting, with 1 decimal place\n",
    "            pc_lung = '{:.1f}'.format(data['volume %'][data.index<0.004].sum())+'%'\n",
    "            pc_upper = '{:.1f}'.format(data['volume %'][(data.index>=0.004)&(data.index<0.01)].sum())+'%'\n",
    "            pc_throat = '{:.1f}'.format(data['volume %'][(data.index>=0.01)&(data.index<0.1)].sum())+'%'\n",
    "            pc_unlikely = '{:.1f}'.format(data['volume %'][data.index>0.1].sum())+'%'\n",
    "\n",
    "            #get and process data description\n",
    "            #description of data\n",
    "            names = ['category', 'value']\n",
    "            desc = pd.read_csv(file, usecols=[0,1], index_col=0, names=names, nrows=7, skiprows=1)\n",
    "\n",
    "            #text descriptors for title\n",
    "            fileid = desc.value[desc.index=='File ID:'].iloc[0]\n",
    "            sampleid = desc.value[desc.index=='Sample ID:'].iloc[0]\n",
    "            comment1 = desc.value[desc.index=='Comment 1:'].iloc[0]\n",
    "            comment2 = desc.value[desc.index=='Comment 2:'].iloc[0]\n",
    "\n",
    "            title = fileid+' : '+sampleid+', '+comment1+' : '+comment2\n",
    "\n",
    "            #plot curve with extra information\n",
    "            #plot curve\n",
    "            fig,ax = plt.subplots(1,figsize=figsize)\n",
    "            ax.semilogx(data.index, data['volume %'])\n",
    "            #with 2sd errors\n",
    "            #ax.fill_between(data.index, data['volume %']-data['minus2sd'], data['volume %']+data['minus2sd'], color='lightblue', alpha=0.5)\n",
    "\n",
    "            #x-axis labels as decimal with 3 significant digits, rather than scientific notation\n",
    "            ax.xaxis.set_major_formatter(FormatStrFormatter('%.3f'))\n",
    "\n",
    "            #colour areas\n",
    "            ax.axvspan(0, 0.004, alpha=0.6, color='red') #< 0.004 mm, deep lungs\n",
    "            ax.axvspan(0.004, 0.01, alpha=0.4, color='red') #0.004-0.01 mm, trachea (windpipe) & bronchial tubes\n",
    "            ax.axvspan(0.01, 0.1, alpha=0.2, color='red') #0.01-0.1 mm, nose & throat\n",
    "            ax.axvspan(0.1, 2, alpha=0.1, color='red') #>0.1-0.1 mm, unlikely to be inhaled\n",
    "\n",
    "            #text labelling coloured categories\n",
    "            ypos = 0.7 * ax.get_ylim()[1] #70% to top of axis\n",
    "            ax.text(0.001, ypos, 'deep lungs', style='italic', fontsize=15, horizontalalignment='center')\n",
    "            ax.text(0.0065, ypos, 'trachea\\n(windpipe)\\n&\\nbronchial\\ntubes', style='italic', fontsize=15, horizontalalignment='center', verticalalignment='center')\n",
    "            ax.text(0.03, ypos, 'nose & throat', style='italic', fontsize=15, horizontalalignment='center')\n",
    "            ax.text(0.7, ypos, 'unlikely to be inhaled', style='italic', fontsize=15, horizontalalignment='center')\n",
    "\n",
    "            #text labelling percentages in each category\n",
    "            ypos = 0.50 * ax.get_ylim()[1] #50% to top of axis\n",
    "            ax.text(0.001, ypos, pc_lung, style='italic', fontsize=15, horizontalalignment='center')\n",
    "            ax.text(0.0065, ypos, pc_upper, style='italic', fontsize=15, horizontalalignment='center')\n",
    "            ax.text(0.03, ypos, pc_throat, style='italic', fontsize=15, horizontalalignment='center')\n",
    "            ax.text(0.7, ypos, pc_unlikely, style='italic', fontsize=15, horizontalalignment='center')\n",
    "\n",
    "            #axis limits and labels\n",
    "            ax.set_xlim(xmin=0.0003, xmax=2)\n",
    "            ax.set_ylabel('% volume of ash')\n",
    "            ax.set_xlabel('ash particle diameter (mm)')\n",
    "            ax.set_title(title)\n",
    "            \n",
    "            plt.savefig(plotfile, bbox_inches = 'tight')\n",
    "            plt.close"
   ]
  }
 ],
 "metadata": {
  "kernelspec": {
   "display_name": "Python 3",
   "language": "python",
   "name": "python3"
  },
  "language_info": {
   "codemirror_mode": {
    "name": "ipython",
    "version": 3
   },
   "file_extension": ".py",
   "mimetype": "text/x-python",
   "name": "python",
   "nbconvert_exporter": "python",
   "pygments_lexer": "ipython3",
   "version": "3.6.2"
  }
 },
 "nbformat": 4,
 "nbformat_minor": 2
}
