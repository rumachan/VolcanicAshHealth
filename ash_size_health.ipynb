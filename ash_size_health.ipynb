{
 "cells": [
  {
   "cell_type": "markdown",
   "metadata": {},
   "source": [
    "Ash Particle Size Distribution - Suitable for Health Stakeholders\n",
    "--"
   ]
  },
  {
   "cell_type": "code",
   "execution_count": null,
   "metadata": {},
   "outputs": [],
   "source": [
    "from IPython.core.display import display, HTML\n",
    "display(HTML(\"<style>.container { width:100% !important; }</style>\"))"
   ]
  },
  {
   "cell_type": "code",
   "execution_count": null,
   "metadata": {},
   "outputs": [],
   "source": [
    "%%javascript\n",
    "IPython.OutputArea.prototype._should_scroll = function(lines) {\n",
    "    return false;\n",
    "}"
   ]
  },
  {
   "cell_type": "code",
   "execution_count": null,
   "metadata": {
    "collapsed": true
   },
   "outputs": [],
   "source": [
    "import pandas as pd\n",
    "import matplotlib.pyplot as plt\n",
    "import matplotlib.style as style\n",
    "from matplotlib.ticker import FormatStrFormatter\n",
    "import numpy as np\n",
    "\n",
    "%matplotlib inline"
   ]
  },
  {
   "cell_type": "code",
   "execution_count": null,
   "metadata": {
    "collapsed": true
   },
   "outputs": [],
   "source": [
    "style.use('fivethirtyeight')"
   ]
  },
  {
   "cell_type": "code",
   "execution_count": null,
   "metadata": {
    "collapsed": true
   },
   "outputs": [],
   "source": [
    "infile = 'AOB010size.csv'"
   ]
  },
  {
   "cell_type": "markdown",
   "metadata": {},
   "source": [
    "**get and process data**"
   ]
  },
  {
   "cell_type": "code",
   "execution_count": null,
   "metadata": {
    "collapsed": true,
    "scrolled": true
   },
   "outputs": [],
   "source": [
    "#data\n",
    "names = ['diameter', 'volume %', 'minus2sd', 'plus2sd', 'cumulative']\n",
    "data = pd.read_csv(infile, skiprows=13, names=names, index_col=0)\n",
    "data.dropna(inplace=True)\n",
    "\n",
    "#put diamater into mm\n",
    "data.index /= 1000"
   ]
  },
  {
   "cell_type": "code",
   "execution_count": null,
   "metadata": {},
   "outputs": [],
   "source": [
    "data.tail()"
   ]
  },
  {
   "cell_type": "code",
   "execution_count": null,
   "metadata": {
    "collapsed": true
   },
   "outputs": [],
   "source": [
    "#calculate percentages in size ranges\n",
    "#convert to string for plottting, with 1 decimal place\n",
    "pc_lung = '{:.1f}'.format(data['volume %'][data.index<0.004].sum())+'%'\n",
    "pc_upper = '{:.1f}'.format(data['volume %'][(data.index>=0.004)&(data.index<0.01)].sum())+'%'\n",
    "pc_throat = '{:.1f}'.format(data['volume %'][(data.index>=0.01)&(data.index<0.1)].sum())+'%'\n",
    "pc_unlikely = '{:.1f}'.format(data['volume %'][data.index>0.1].sum())+'%'"
   ]
  },
  {
   "cell_type": "markdown",
   "metadata": {},
   "source": [
    "**get and process data description**"
   ]
  },
  {
   "cell_type": "code",
   "execution_count": null,
   "metadata": {
    "collapsed": true
   },
   "outputs": [],
   "source": [
    "#description of data\n",
    "names = ['category', 'value']\n",
    "desc = pd.read_csv(infile, usecols=[0,1], index_col=0, names=names, nrows=7, skiprows=1)\n",
    "\n",
    "#text descriptors for title\n",
    "fileid = desc.value[desc.index=='File ID:'].iloc[0]\n",
    "sampleid = desc.value[desc.index=='Sample ID:'].iloc[0]\n",
    "comment1 = desc.value[desc.index=='Comment 1:'].iloc[0]\n",
    "comment2 = desc.value[desc.index=='Comment 2:'].iloc[0]\n",
    "\n",
    "title = 'Sample '+fileid+' : '+sampleid+', '+comment1+' : '+comment2"
   ]
  },
  {
   "cell_type": "markdown",
   "metadata": {},
   "source": [
    "**plot curve with extra information**"
   ]
  },
  {
   "cell_type": "code",
   "execution_count": null,
   "metadata": {
    "scrolled": true
   },
   "outputs": [],
   "source": [
    "figsize = (15,5)\n",
    "\n",
    "#plot curve\n",
    "pl = data['volume %'].plot(logx=True, figsize=figsize)\n",
    "#with 2sd errors\n",
    "#pl.fill_between(data.index, data['volume %']-data['minus2sd'], data['volume %']+data['minus2sd'], color='lightblue', alpha=0.5)\n",
    "\n",
    "#x-axis labels as decimal with 3 significant digits, rather than scientific notation\n",
    "pl.xaxis.set_major_formatter(FormatStrFormatter('%.3f'))\n",
    "\n",
    "#colour areas\n",
    "pl.axvspan(0, 0.004, alpha=0.6, color='red') #< 0.004 mm, deep lungs\n",
    "pl.axvspan(0.004, 0.01, alpha=0.4, color='red') #0.004-0.01 mm, trachea (windpipe) & bronchial tubes\n",
    "pl.axvspan(0.01, 0.1, alpha=0.2, color='red') #0.01-0.1 mm, nose & throat\n",
    "pl.axvspan(0.1, 2, alpha=0.1, color='red') #>0.1-0.1 mm, unlikely to be inhaled\n",
    "\n",
    "#text labelling coloured categories\n",
    "ypos = 0.7 * pl.get_ylim()[1] #70% to top of axis\n",
    "pl.text(0.001, ypos, 'deep lungs', style='italic', fontsize=15, horizontalalignment='center')\n",
    "pl.text(0.0065, ypos, 'trachea\\n(windpipe)\\n&\\nbronchial\\ntubes', style='italic', fontsize=15, horizontalalignment='center', verticalalignment='center')\n",
    "pl.text(0.03, ypos, 'nose & throat', style='italic', fontsize=15, horizontalalignment='center')\n",
    "pl.text(0.7, ypos, 'unlikely to be inhaled', style='italic', fontsize=15, horizontalalignment='center')\n",
    "\n",
    "#text labelling percentages in each category\n",
    "ypos = 0.50 * pl.get_ylim()[1] #50% to top of axis\n",
    "pl.text(0.001, ypos, pc_lung, style='italic', fontsize=15, horizontalalignment='center')\n",
    "pl.text(0.0065, ypos, pc_upper, style='italic', fontsize=15, horizontalalignment='center')\n",
    "pl.text(0.03, ypos, pc_throat, style='italic', fontsize=15, horizontalalignment='center')\n",
    "pl.text(0.7, ypos, pc_unlikely, style='italic', fontsize=15, horizontalalignment='center')\n",
    "\n",
    "#axis limits and labels\n",
    "pl.set_xlim(xmin=0.0003, xmax=2)\n",
    "pl.set_ylabel('% volume of ash')\n",
    "pl.set_xlabel('ash particle diameter (mm)')\n",
    "pl.set_title(title)\n",
    "\n",
    "#plt.savefig('size_distribution.png', bbox_inches = 'tight')"
   ]
  },
  {
   "cell_type": "markdown",
   "metadata": {},
   "source": [
    "**plot cumulative curve, with extra information**"
   ]
  },
  {
   "cell_type": "code",
   "execution_count": null,
   "metadata": {
    "scrolled": true
   },
   "outputs": [],
   "source": [
    "figsize = (15,5)\n",
    "\n",
    "#plot curve\n",
    "pl = data['cumulative'].plot(logx=True, figsize=figsize)\n",
    "#with 2sd errors\n",
    "#pl.fill_between(data.index, data['volume %']-data['minus2sd'], data['volume %']+data['minus2sd'], color='lightblue', alpha=0.5)\n",
    "\n",
    "#x-axis labels as decimal with 3 significant digits, rather than scientific notation\n",
    "pl.xaxis.set_major_formatter(FormatStrFormatter('%.3f'))\n",
    "\n",
    "#colour areas\n",
    "pl.axvspan(0, 0.004, alpha=0.6, color='red') #< 0.004 mm, deep lungs\n",
    "pl.axvspan(0.004, 0.01, alpha=0.4, color='red') #0.004-0.01 mm, trachea (windpipe) & bronchial tubes\n",
    "pl.axvspan(0.01, 0.1, alpha=0.2, color='red') #0.01-0.1 mm, nose & throat\n",
    "pl.axvspan(0.1, 2, alpha=0.1, color='red') #>0.1-0.1 mm, unlikely to be inhaled\n",
    "\n",
    "#text labelling coloured categories\n",
    "ypos = 0.7 * pl.get_ylim()[1] #70% to top of axis\n",
    "pl.text(0.001, ypos, 'deep lungs', style='italic', fontsize=15, horizontalalignment='center')\n",
    "pl.text(0.0065, ypos, 'trachea\\n(windpipe)\\n&\\nbronchial\\ntubes', style='italic', fontsize=15, horizontalalignment='center', verticalalignment='center')\n",
    "pl.text(0.03, ypos, 'nose & throat', style='italic', fontsize=15, horizontalalignment='center')\n",
    "pl.text(0.7, ypos, 'unlikely to be inhaled', style='italic', fontsize=15, horizontalalignment='center')\n",
    "\n",
    "#text labelling percentages in each category\n",
    "ypos = 0.50 * pl.get_ylim()[1] #50% to top of axis\n",
    "pl.text(0.001, ypos, pc_lung, style='italic', fontsize=15, horizontalalignment='center')\n",
    "pl.text(0.0065, ypos, pc_upper, style='italic', fontsize=15, horizontalalignment='center')\n",
    "pl.text(0.03, ypos, pc_throat, style='italic', fontsize=15, horizontalalignment='center')\n",
    "pl.text(0.7, ypos, pc_unlikely, style='italic', fontsize=15, horizontalalignment='center')\n",
    "\n",
    "#axis limits and labels\n",
    "pl.set_xlim(xmin=0.0003, xmax=2)\n",
    "pl.set_ylabel('cumulative % volume of ash')\n",
    "pl.set_xlabel('ash particle diameter (mm)')\n",
    "pl.set_title(title)\n",
    "\n",
    "#plt.savefig('size_distribution.png', bbox_inches = 'tight')"
   ]
  },
  {
   "cell_type": "markdown",
   "metadata": {},
   "source": [
    "**plot bar chart, as cumulative %**"
   ]
  },
  {
   "cell_type": "code",
   "execution_count": null,
   "metadata": {
    "collapsed": true
   },
   "outputs": [],
   "source": [
    "lung = data['volume %'][data.index<0.004].sum()\n",
    "trachea = data['volume %'][(data.index>=0.004)&(data.index<0.01)].sum()\n",
    "trachea += lung #trachea & bronchial also affected by ash going deeper into lungs\n",
    "throat = data['volume %'][(data.index>=0.01)&(data.index<0.1)].sum()\n",
    "throat += trachea #throat also affected by ash going deeper into lungs\n",
    "d = { 'deep lungs':lung, 'trachea & bronchial':trachea, 'nose & throat':throat}\n",
    "pc = pd.DataFrame.from_dict(d, orient='index' )"
   ]
  },
  {
   "cell_type": "code",
   "execution_count": null,
   "metadata": {
    "collapsed": true
   },
   "outputs": [],
   "source": [
    "pc.columns = ['impacted']"
   ]
  },
  {
   "cell_type": "code",
   "execution_count": null,
   "metadata": {},
   "outputs": [],
   "source": [
    "pc"
   ]
  },
  {
   "cell_type": "code",
   "execution_count": null,
   "metadata": {},
   "outputs": [],
   "source": [
    "br = pc.plot.bar(legend=False, color='red')\n",
    "br.set_ylabel('% of ash by volume')\n",
    "\n",
    "#add 1 decimal place % labels to each bar\n",
    "for i, v in enumerate(pc['impacted']):\n",
    "    br.text(i, v+0.5, '{:.1f}'.format(v)+'%', color='black', horizontalalignment='center')\n",
    "\n",
    "#main title and subtitle showing sample details\n",
    "plt.suptitle('Proportion of ash affecting respiratory system', y=1.10, fontsize=20)\n",
    "plt.title(title, y=1.08, fontsize=12)\n",
    "\n",
    "#signature bar\n",
    "br.text(x = 0, y = 0.05, transform=fig.transFigure, s = 'GNS Science', fontsize = 14, color = 'gray')\n",
    "br.text(x = 0, y = 0.01, transform=fig.transFigure, s = 'http://www.gns.cri.nz', fontsize = 14, color = 'gray')\n",
    "\n",
    "plt.savefig('effect_distribution.png', bbox_inches = 'tight')"
   ]
  },
  {
   "cell_type": "markdown",
   "metadata": {},
   "source": [
    "**pie chart**"
   ]
  },
  {
   "cell_type": "code",
   "execution_count": null,
   "metadata": {},
   "outputs": [],
   "source": [
    "figsize = (5,5)\n",
    "labels = 'deep lungs', 'upper airways', 'nose & throat'\n",
    "fig,ax = plt.subplots(1, figsize=figsize)\n",
    "ax.pie(pc.impacted, labels=labels, autopct='%1.1f%%')\n",
    "ax.axis('equal')\n",
    "ax.set_title('Where affected')"
   ]
  }
 ],
 "metadata": {
  "kernelspec": {
   "display_name": "Python 3",
   "language": "python",
   "name": "python3"
  },
  "language_info": {
   "codemirror_mode": {
    "name": "ipython",
    "version": 3
   },
   "file_extension": ".py",
   "mimetype": "text/x-python",
   "name": "python",
   "nbconvert_exporter": "python",
   "pygments_lexer": "ipython3",
   "version": "3.6.2"
  }
 },
 "nbformat": 4,
 "nbformat_minor": 2
}
